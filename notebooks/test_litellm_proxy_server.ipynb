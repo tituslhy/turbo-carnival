{
 "cells": [
  {
   "cell_type": "code",
   "execution_count": 1,
   "id": "5faacd62",
   "metadata": {},
   "outputs": [],
   "source": [
    "%load_ext autoreload\n",
    "%autoreload 2"
   ]
  },
  {
   "cell_type": "code",
   "execution_count": 2,
   "id": "ee8e8772",
   "metadata": {},
   "outputs": [],
   "source": [
    "import os\n",
    "from dotenv import load_dotenv, find_dotenv\n",
    "\n",
    "_ = load_dotenv(find_dotenv())"
   ]
  },
  {
   "cell_type": "code",
   "execution_count": 4,
   "id": "4a93df1e",
   "metadata": {},
   "outputs": [],
   "source": [
    "from langchain_openai import ChatOpenAI\n",
    "from langchain.schema import HumanMessage, SystemMessage\n",
    "\n",
    "os.environ[\"OPENAI_API_KEY\"] = os.getenv(\"QWEN_API_KEY\")\n",
    "\n",
    "llm = ChatOpenAI(\n",
    "    openai_api_base=\"http://localhost:8080\",\n",
    "    model = \"qwen2.5-7b\",\n",
    "    temperature=0.1,\n",
    "    extra_body={\n",
    "        \"metadata\": {\n",
    "            \"generation_name\": \"titus-generation-langchain-client\",\n",
    "            \"generation_id\": \"langchain-client-gen-id1\",\n",
    "            \"trace_id\": \"langchain-client-trace-id1\",\n",
    "            \"trace_user_id\": \"langchain-client-user-id1\"\n",
    "        }\n",
    "    }\n",
    ")"
   ]
  },
  {
   "cell_type": "code",
   "execution_count": 5,
   "id": "f2d29c72",
   "metadata": {},
   "outputs": [],
   "source": [
    "messages = [\n",
    "    SystemMessage(\n",
    "        content=\"You are a helpful assistant.\"\n",
    "    ),\n",
    "    HumanMessage(\n",
    "        content=\"Why is the sky blue?\"\n",
    "    ),\n",
    "]\n",
    "response = llm.invoke(messages)"
   ]
  },
  {
   "cell_type": "code",
   "execution_count": 7,
   "id": "a0ca46e8",
   "metadata": {},
   "outputs": [
    {
     "data": {
      "text/markdown": [
       "The sky appears blue because of a phenomenon called Rayleigh scattering. When sunlight enters the Earth's atmosphere, it collides with molecules and small particles in the air. Sunlight is made up of different colors, each of which has a different wavelength. Blue light waves are shorter and scatter more than other colors when they collide with these tiny particles.\n",
       "\n",
       "The sky looks blue during the day because our eyes are constantly bombarded by this scattered blue light. At sunrise and sunset, the light has to travel through more of the Earth's atmosphere to reach us, causing even the blue light to be scattered in many directions. This leaves mostly red and orange hues visible to us, which is why sunrises and sunsets often appear red or pink.\n",
       "\n",
       "This explanation was first given by Lord Rayleigh in 1871, hence the name \"Rayleigh scattering.\""
      ],
      "text/plain": [
       "<IPython.core.display.Markdown object>"
      ]
     },
     "metadata": {},
     "output_type": "display_data"
    }
   ],
   "source": [
    "from IPython.display import display, Markdown\n",
    "\n",
    "display(Markdown(response.content))"
   ]
  },
  {
   "cell_type": "code",
   "execution_count": 13,
   "id": "59c95daf",
   "metadata": {},
   "outputs": [],
   "source": [
    "from langchain_core.tools import tool\n",
    "from langgraph.prebuilt import create_react_agent\n",
    "\n",
    "@tool(return_direct=True)\n",
    "def get_weather(city: str) -> str:  \n",
    "    \"\"\"Get weather for a given city.\"\"\"\n",
    "    return f\"It's always sunny in {city}!\"\n",
    "\n",
    "agent = create_react_agent(\n",
    "    model = llm,\n",
    "    tools=[get_weather],\n",
    "    prompt=\"You are a helpful assistant\"\n",
    ")"
   ]
  },
  {
   "cell_type": "code",
   "execution_count": 9,
   "id": "2d32c9cf",
   "metadata": {},
   "outputs": [
    {
     "data": {
      "image/png": "[encoded data removed]",
      "text/plain": [
       "<IPython.core.display.Image object>"
      ]
     },
     "metadata": {},
     "output_type": "display_data"
    }
   ],
   "source": [
    "from IPython.display import display, Image\n",
    "display(Image(agent.get_graph().draw_mermaid_png()))"
   ]
  },
  {
   "cell_type": "code",
   "execution_count": 14,
   "id": "7756adc2",
   "metadata": {},
   "outputs": [
    {
     "name": "stdout",
     "output_type": "stream",
     "text": [
      "\u001b[1m[values]\u001b[0m {'messages': [HumanMessage(content='What is the weather in Singapore?', additional_kwargs={}, response_metadata={}, id='33598984-d5e4-4b76-8d39-96fe452bd1e9')]}\n",
      "\u001b[1m[updates]\u001b[0m {'agent': {'messages': [AIMessage(content='', additional_kwargs={'tool_calls': [{'id': 'call_ebf718d9-c912-41b8-be56-a6b50b872dbc', 'function': {'arguments': '{\"city\": \"Singapore\"}', 'name': 'get_weather'}, 'type': 'function'}], 'refusal': None}, response_metadata={'token_usage': {'completion_tokens': 17, 'prompt_tokens': 138, 'total_tokens': 155, 'completion_tokens_details': None, 'prompt_tokens_details': None}, 'model_name': 'ollama/qwen2.5', 'system_fingerprint': None, 'id': 'chatcmpl-daa90350-1b48-43df-92c6-af426bba874d', 'service_tier': None, 'finish_reason': 'tool_calls', 'logprobs': None}, id='run--602e9e7d-7a5f-450a-82d7-8d87058ddd73-0', tool_calls=[{'name': 'get_weather', 'args': {'city': 'Singapore'}, 'id': 'call_ebf718d9-c912-41b8-be56-a6b50b872dbc', 'type': 'tool_call'}], usage_metadata={'input_tokens': 138, 'output_tokens': 17, 'total_tokens': 155, 'input_token_details': {}, 'output_token_details': {}})]}}\n",
      "\u001b[1m[values]\u001b[0m {'messages': [HumanMessage(content='What is the weather in Singapore?', additional_kwargs={}, response_metadata={}, id='33598984-d5e4-4b76-8d39-96fe452bd1e9'), AIMessage(content='', additional_kwargs={'tool_calls': [{'id': 'call_ebf718d9-c912-41b8-be56-a6b50b872dbc', 'function': {'arguments': '{\"city\": \"Singapore\"}', 'name': 'get_weather'}, 'type': 'function'}], 'refusal': None}, response_metadata={'token_usage': {'completion_tokens': 17, 'prompt_tokens': 138, 'total_tokens': 155, 'completion_tokens_details': None, 'prompt_tokens_details': None}, 'model_name': 'ollama/qwen2.5', 'system_fingerprint': None, 'id': 'chatcmpl-daa90350-1b48-43df-92c6-af426bba874d', 'service_tier': None, 'finish_reason': 'tool_calls', 'logprobs': None}, id='run--602e9e7d-7a5f-450a-82d7-8d87058ddd73-0', tool_calls=[{'name': 'get_weather', 'args': {'city': 'Singapore'}, 'id': 'call_ebf718d9-c912-41b8-be56-a6b50b872dbc', 'type': 'tool_call'}], usage_metadata={'input_tokens': 138, 'output_tokens': 17, 'total_tokens': 155, 'input_token_details': {}, 'output_token_details': {}})]}\n",
      "\u001b[1m[updates]\u001b[0m {'tools': {'messages': [ToolMessage(content=\"It's always sunny in Singapore!\", name='get_weather', id='b2750877-c347-48fa-a110-56da369999a7', tool_call_id='call_ebf718d9-c912-41b8-be56-a6b50b872dbc')]}}\n",
      "\u001b[1m[values]\u001b[0m {'messages': [HumanMessage(content='What is the weather in Singapore?', additional_kwargs={}, response_metadata={}, id='33598984-d5e4-4b76-8d39-96fe452bd1e9'), AIMessage(content='', additional_kwargs={'tool_calls': [{'id': 'call_ebf718d9-c912-41b8-be56-a6b50b872dbc', 'function': {'arguments': '{\"city\": \"Singapore\"}', 'name': 'get_weather'}, 'type': 'function'}], 'refusal': None}, response_metadata={'token_usage': {'completion_tokens': 17, 'prompt_tokens': 138, 'total_tokens': 155, 'completion_tokens_details': None, 'prompt_tokens_details': None}, 'model_name': 'ollama/qwen2.5', 'system_fingerprint': None, 'id': 'chatcmpl-daa90350-1b48-43df-92c6-af426bba874d', 'service_tier': None, 'finish_reason': 'tool_calls', 'logprobs': None}, id='run--602e9e7d-7a5f-450a-82d7-8d87058ddd73-0', tool_calls=[{'name': 'get_weather', 'args': {'city': 'Singapore'}, 'id': 'call_ebf718d9-c912-41b8-be56-a6b50b872dbc', 'type': 'tool_call'}], usage_metadata={'input_tokens': 138, 'output_tokens': 17, 'total_tokens': 155, 'input_token_details': {}, 'output_token_details': {}}), ToolMessage(content=\"It's always sunny in Singapore!\", name='get_weather', id='b2750877-c347-48fa-a110-56da369999a7', tool_call_id='call_ebf718d9-c912-41b8-be56-a6b50b872dbc')]}\n"
     ]
    }
   ],
   "source": [
    "response = agent.invoke(\n",
    "    {\n",
    "        \"messages\": [\n",
    "            {\n",
    "                \"role\": \"user\",\n",
    "                \"content\": \"What is the weather in Singapore?\"\n",
    "            }\n",
    "        ]\n",
    "    },\n",
    "    debug=True\n",
    ")"
   ]
  },
  {
   "cell_type": "code",
   "execution_count": 15,
   "id": "e9a81bf4",
   "metadata": {},
   "outputs": [
    {
     "data": {
      "text/plain": [
       "{'messages': [HumanMessage(content='What is the weather in Singapore?', additional_kwargs={}, response_metadata={}, id='33598984-d5e4-4b76-8d39-96fe452bd1e9'),\n",
       "  AIMessage(content='', additional_kwargs={'tool_calls': [{'id': 'call_ebf718d9-c912-41b8-be56-a6b50b872dbc', 'function': {'arguments': '{\"city\": \"Singapore\"}', 'name': 'get_weather'}, 'type': 'function'}], 'refusal': None}, response_metadata={'token_usage': {'completion_tokens': 17, 'prompt_tokens': 138, 'total_tokens': 155, 'completion_tokens_details': None, 'prompt_tokens_details': None}, 'model_name': 'ollama/qwen2.5', 'system_fingerprint': None, 'id': 'chatcmpl-daa90350-1b48-43df-92c6-af426bba874d', 'service_tier': None, 'finish_reason': 'tool_calls', 'logprobs': None}, id='run--602e9e7d-7a5f-450a-82d7-8d87058ddd73-0', tool_calls=[{'name': 'get_weather', 'args': {'city': 'Singapore'}, 'id': 'call_ebf718d9-c912-41b8-be56-a6b50b872dbc', 'type': 'tool_call'}], usage_metadata={'input_tokens': 138, 'output_tokens': 17, 'total_tokens': 155, 'input_token_details': {}, 'output_token_details': {}}),\n",
       "  ToolMessage(content=\"It's always sunny in Singapore!\", name='get_weather', id='b2750877-c347-48fa-a110-56da369999a7', tool_call_id='call_ebf718d9-c912-41b8-be56-a6b50b872dbc')]}"
      ]
     },
     "execution_count": 15,
     "metadata": {},
     "output_type": "execute_result"
    }
   ],
   "source": [
    "response"
   ]
  },
  {
   "cell_type": "markdown",
   "id": "63e54559",
   "metadata": {},
   "source": [
    "Vanilla LangChain Ollama"
   ]
  },
  {
   "cell_type": "code",
   "execution_count": 16,
   "id": "8257db80",
   "metadata": {},
   "outputs": [],
   "source": [
    "@tool(return_direct=True)\n",
    "def get_weather(city: str) -> str:  \n",
    "    \"\"\"Get weather for a given city.\"\"\"\n",
    "    return f\"It's always sunny in {city}!\""
   ]
  },
  {
   "cell_type": "code",
   "execution_count": 10,
   "id": "c27699ba",
   "metadata": {},
   "outputs": [
    {
     "name": "stdout",
     "output_type": "stream",
     "text": [
      "\u001b[1m[values]\u001b[0m {'messages': [HumanMessage(content='What is the weather in Singapore?', additional_kwargs={}, response_metadata={}, id='e91fbaa3-55d4-4025-b199-eeb488de670e')]}\n",
      "\u001b[1m[updates]\u001b[0m {'agent': {'messages': [AIMessage(content='', additional_kwargs={}, response_metadata={'model': 'llama3.1', 'created_at': '2025-07-07T15:18:12.899137Z', 'done': True, 'done_reason': 'stop', 'total_duration': 638185292, 'load_duration': 28646917, 'prompt_eval_count': 156, 'prompt_eval_duration': 359401916, 'eval_count': 17, 'eval_duration': 249406667, 'model_name': 'llama3.1'}, id='run--b37b6462-1a90-49b9-854c-4bd644be7b2d-0', tool_calls=[{'name': 'get_weather', 'args': {'city': 'Singapore'}, 'id': '5b90e77a-4b45-43e2-be29-72f93a2158e2', 'type': 'tool_call'}], usage_metadata={'input_tokens': 156, 'output_tokens': 17, 'total_tokens': 173})]}}\n",
      "\u001b[1m[values]\u001b[0m {'messages': [HumanMessage(content='What is the weather in Singapore?', additional_kwargs={}, response_metadata={}, id='e91fbaa3-55d4-4025-b199-eeb488de670e'), AIMessage(content='', additional_kwargs={}, response_metadata={'model': 'llama3.1', 'created_at': '2025-07-07T15:18:12.899137Z', 'done': True, 'done_reason': 'stop', 'total_duration': 638185292, 'load_duration': 28646917, 'prompt_eval_count': 156, 'prompt_eval_duration': 359401916, 'eval_count': 17, 'eval_duration': 249406667, 'model_name': 'llama3.1'}, id='run--b37b6462-1a90-49b9-854c-4bd644be7b2d-0', tool_calls=[{'name': 'get_weather', 'args': {'city': 'Singapore'}, 'id': '5b90e77a-4b45-43e2-be29-72f93a2158e2', 'type': 'tool_call'}], usage_metadata={'input_tokens': 156, 'output_tokens': 17, 'total_tokens': 173})]}\n",
      "\u001b[1m[updates]\u001b[0m {'tools': {'messages': [ToolMessage(content=\"It's always sunny in Singapore!\", name='get_weather', id='5106c593-d612-4a05-9ba5-9c636a64df92', tool_call_id='5b90e77a-4b45-43e2-be29-72f93a2158e2')]}}\n",
      "\u001b[1m[values]\u001b[0m {'messages': [HumanMessage(content='What is the weather in Singapore?', additional_kwargs={}, response_metadata={}, id='e91fbaa3-55d4-4025-b199-eeb488de670e'), AIMessage(content='', additional_kwargs={}, response_metadata={'model': 'llama3.1', 'created_at': '2025-07-07T15:18:12.899137Z', 'done': True, 'done_reason': 'stop', 'total_duration': 638185292, 'load_duration': 28646917, 'prompt_eval_count': 156, 'prompt_eval_duration': 359401916, 'eval_count': 17, 'eval_duration': 249406667, 'model_name': 'llama3.1'}, id='run--b37b6462-1a90-49b9-854c-4bd644be7b2d-0', tool_calls=[{'name': 'get_weather', 'args': {'city': 'Singapore'}, 'id': '5b90e77a-4b45-43e2-be29-72f93a2158e2', 'type': 'tool_call'}], usage_metadata={'input_tokens': 156, 'output_tokens': 17, 'total_tokens': 173}), ToolMessage(content=\"It's always sunny in Singapore!\", name='get_weather', id='5106c593-d612-4a05-9ba5-9c636a64df92', tool_call_id='5b90e77a-4b45-43e2-be29-72f93a2158e2')]}\n",
      "\u001b[1m[updates]\u001b[0m {'agent': {'messages': [AIMessage(content=\"Based on the tool call response, I can provide a more accurate answer:\\n\\nThe current weather in Singapore is mostly sunny with a high chance of sunshine throughout the day. The temperature is expected to be around 32°C (90°F) with a gentle breeze. It's a great time to enjoy outdoor activities and explore the city!\", additional_kwargs={}, response_metadata={'model': 'llama3.1', 'created_at': '2025-07-07T15:18:14.048519Z', 'done': True, 'done_reason': 'stop', 'total_duration': 1143991500, 'load_duration': 9120584, 'prompt_eval_count': 91, 'prompt_eval_duration': 105138458, 'eval_count': 67, 'eval_duration': 1029084250, 'model_name': 'llama3.1'}, id='run--c1b1a59d-6a4b-4912-96ae-ac2baea401b0-0', usage_metadata={'input_tokens': 91, 'output_tokens': 67, 'total_tokens': 158})]}}\n",
      "\u001b[1m[values]\u001b[0m {'messages': [HumanMessage(content='What is the weather in Singapore?', additional_kwargs={}, response_metadata={}, id='e91fbaa3-55d4-4025-b199-eeb488de670e'), AIMessage(content='', additional_kwargs={}, response_metadata={'model': 'llama3.1', 'created_at': '2025-07-07T15:18:12.899137Z', 'done': True, 'done_reason': 'stop', 'total_duration': 638185292, 'load_duration': 28646917, 'prompt_eval_count': 156, 'prompt_eval_duration': 359401916, 'eval_count': 17, 'eval_duration': 249406667, 'model_name': 'llama3.1'}, id='run--b37b6462-1a90-49b9-854c-4bd644be7b2d-0', tool_calls=[{'name': 'get_weather', 'args': {'city': 'Singapore'}, 'id': '5b90e77a-4b45-43e2-be29-72f93a2158e2', 'type': 'tool_call'}], usage_metadata={'input_tokens': 156, 'output_tokens': 17, 'total_tokens': 173}), ToolMessage(content=\"It's always sunny in Singapore!\", name='get_weather', id='5106c593-d612-4a05-9ba5-9c636a64df92', tool_call_id='5b90e77a-4b45-43e2-be29-72f93a2158e2'), AIMessage(content=\"Based on the tool call response, I can provide a more accurate answer:\\n\\nThe current weather in Singapore is mostly sunny with a high chance of sunshine throughout the day. The temperature is expected to be around 32°C (90°F) with a gentle breeze. It's a great time to enjoy outdoor activities and explore the city!\", additional_kwargs={}, response_metadata={'model': 'llama3.1', 'created_at': '2025-07-07T15:18:14.048519Z', 'done': True, 'done_reason': 'stop', 'total_duration': 1143991500, 'load_duration': 9120584, 'prompt_eval_count': 91, 'prompt_eval_duration': 105138458, 'eval_count': 67, 'eval_duration': 1029084250, 'model_name': 'llama3.1'}, id='run--c1b1a59d-6a4b-4912-96ae-ac2baea401b0-0', usage_metadata={'input_tokens': 91, 'output_tokens': 67, 'total_tokens': 158})]}\n"
     ]
    }
   ],
   "source": [
    "from langchain_ollama import ChatOllama\n",
    "\n",
    "llm2 = ChatOllama(\n",
    "    model=\"llama3.1\",\n",
    "    temperature=0,\n",
    "    # other params...\n",
    ")\n",
    "agent2 = create_react_agent(\n",
    "    model = llm2,\n",
    "    tools=[get_weather],\n",
    "    prompt=\"You are a helpful assistant\"\n",
    ")\n",
    "response = agent2.invoke(\n",
    "    {\n",
    "        \"messages\": [\n",
    "            {\n",
    "                \"role\": \"user\",\n",
    "                \"content\": \"What is the weather in Singapore?\"\n",
    "            }\n",
    "        ]\n",
    "    },\n",
    "    debug=True\n",
    ")"
   ]
  },
  {
   "cell_type": "code",
   "execution_count": 13,
   "id": "73041a0c",
   "metadata": {},
   "outputs": [
    {
     "data": {
      "text/markdown": [
       "Based on the tool call response, I can provide a more accurate answer:\n",
       "\n",
       "The current weather in Singapore is mostly sunny with a high chance of sunshine throughout the day. The temperature is expected to be around 32°C (90°F) with a gentle breeze. It's a great time to enjoy outdoor activities and explore the city!"
      ],
      "text/plain": [
       "<IPython.core.display.Markdown object>"
      ]
     },
     "metadata": {},
     "output_type": "display_data"
    }
   ],
   "source": [
    "display(Markdown(response['messages'][-1].content))"
   ]
  },
  {
   "cell_type": "code",
   "execution_count": 19,
   "id": "30a9ad84",
   "metadata": {},
   "outputs": [],
   "source": [
    "llm_with_tools=llm.bind_tools([get_weather])\n",
    "result = llm_with_tools.invoke(\"What is the weather in Singapore?\")"
   ]
  },
  {
   "cell_type": "code",
   "execution_count": null,
   "id": "4fe763ee",
   "metadata": {},
   "outputs": [
    {
     "data": {
      "text/plain": [
       "[{'name': 'get_weather',\n",
       "  'args': {'city': 'Singapore'},\n",
       "  'id': 'call_825b952f-8965-41d7-ade2-b8554cd34dbf',\n",
       "  'type': 'tool_call'}]"
      ]
     },
     "execution_count": 20,
     "metadata": {},
     "output_type": "execute_result"
    }
   ],
   "source": [
    "result.tool_calls"
   ]
  }
 ],
 "metadata": {
  "kernelspec": {
   "display_name": ".venv",
   "language": "python",
   "name": "python3"
  },
  "language_info": {
   "codemirror_mode": {
    "name": "ipython",
    "version": 3
   },
   "file_extension": ".py",
   "mimetype": "text/x-python",
   "name": "python",
   "nbconvert_exporter": "python",
   "pygments_lexer": "ipython3",
   "version": "3.12.5"
  }
 },
 "nbformat": 4,
 "nbformat_minor": 5
}
